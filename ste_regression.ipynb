{
  "nbformat": 4,
  "nbformat_minor": 0,
  "metadata": {
    "colab": {
      "private_outputs": true,
      "provenance": [],
      "mount_file_id": "1PxzTbh5464R9HivuSPf6C8fKw3ljh2Ty",
      "authorship_tag": "ABX9TyPufhBNNE2LyMwfJjTtBxa1",
      "include_colab_link": true
    },
    "kernelspec": {
      "name": "python3",
      "display_name": "Python 3"
    },
    "language_info": {
      "name": "python"
    }
  },
  "cells": [
    {
      "cell_type": "markdown",
      "metadata": {
        "id": "view-in-github",
        "colab_type": "text"
      },
      "source": [
        "<a href=\"https://colab.research.google.com/github/KIM14957/STE2023/blob/main/ste_regression.ipynb\" target=\"_parent\"><img src=\"https://colab.research.google.com/assets/colab-badge.svg\" alt=\"Open In Colab\"/></a>"
      ]
    },
    {
      "cell_type": "code",
      "source": [
        "import numpy as np\n",
        "import pandas as pd\n",
        "import seaborn as sns"
      ],
      "metadata": {
        "id": "Xspz2X0mRzRP"
      },
      "execution_count": null,
      "outputs": []
    },
    {
      "cell_type": "markdown",
      "source": [],
      "metadata": {
        "id": "1t6BEHyXWArC"
      }
    },
    {
      "cell_type": "code",
      "source": [],
      "metadata": {
        "id": "QTYgQoTGpSPB"
      },
      "execution_count": null,
      "outputs": []
    },
    {
      "cell_type": "markdown",
      "source": [],
      "metadata": {
        "id": "OpZsvKl6VRwR"
      }
    },
    {
      "cell_type": "markdown",
      "source": [
        "# 합성데이터 로딩\n"
      ],
      "metadata": {
        "id": "vOSZwEskVXDv"
      }
    },
    {
      "cell_type": "code",
      "source": [
        "df=pd.read_csv('/content/drive/MyDrive/STE2.csv', sep=\",\")"
      ],
      "metadata": {
        "id": "b6Pkf_ZqPje4"
      },
      "execution_count": null,
      "outputs": []
    },
    {
      "cell_type": "markdown",
      "source": [
        "# 데이터전처리"
      ],
      "metadata": {
        "id": "fe-pm95IVt1J"
      }
    },
    {
      "cell_type": "code",
      "source": [
        "df.shape\n"
      ],
      "metadata": {
        "id": "tlEXNDWAR5Z3"
      },
      "execution_count": null,
      "outputs": []
    },
    {
      "cell_type": "code",
      "source": [
        "df.info()"
      ],
      "metadata": {
        "id": "Eh0VF4JuSCeX"
      },
      "execution_count": null,
      "outputs": []
    },
    {
      "cell_type": "code",
      "source": [
        "df.describe()"
      ],
      "metadata": {
        "id": "rigMIAinWNz3"
      },
      "execution_count": null,
      "outputs": []
    },
    {
      "cell_type": "code",
      "source": [
        "df.head()"
      ],
      "metadata": {
        "id": "wPQZhjQ0Wr6P"
      },
      "execution_count": null,
      "outputs": []
    },
    {
      "cell_type": "code",
      "source": [],
      "metadata": {
        "id": "_OQ123RTYeRA"
      },
      "execution_count": null,
      "outputs": []
    },
    {
      "cell_type": "markdown",
      "source": [
        "# 상관관계 분석 "
      ],
      "metadata": {
        "id": "kFyFlH99YyhR"
      }
    },
    {
      "cell_type": "code",
      "source": [
        "df.corr()"
      ],
      "metadata": {
        "id": "bkCT07Y_Y8PH"
      },
      "execution_count": null,
      "outputs": []
    },
    {
      "cell_type": "code",
      "source": [
        "import matplotlib\n",
        "import matplotlib.pyplot as plt"
      ],
      "metadata": {
        "id": "g0YKb9FiZbDx"
      },
      "execution_count": null,
      "outputs": []
    },
    {
      "cell_type": "code",
      "source": [
        "sns.heatmap(df.corr(), annot=True)\n",
        "plt.title(\"STE FEATURE CORRATION MAP\")"
      ],
      "metadata": {
        "id": "XroKqNHiY6SJ"
      },
      "execution_count": null,
      "outputs": []
    },
    {
      "cell_type": "code",
      "source": [
        "cols=['fat','armr','ct','conj','lossr']"
      ],
      "metadata": {
        "id": "JV4bsUwulZt8"
      },
      "execution_count": null,
      "outputs": []
    },
    {
      "cell_type": "markdown",
      "source": [
        "# 산점도 행렬 시각화 \n"
      ],
      "metadata": {
        "id": "WbTfgLjmphPK"
      }
    },
    {
      "cell_type": "code",
      "source": [
        "sns.pairplot(df[cols],height=2.5)"
      ],
      "metadata": {
        "id": "3cKIFeBjl2v7"
      },
      "execution_count": null,
      "outputs": []
    },
    {
      "cell_type": "code",
      "source": [],
      "metadata": {
        "id": "bUq3KBIypZHb"
      },
      "execution_count": null,
      "outputs": []
    },
    {
      "cell_type": "markdown",
      "source": [
        "# 상관관계 행렬을 이용한 분석 \n"
      ],
      "metadata": {
        "id": "Pej9flF_p9ps"
      }
    },
    {
      "cell_type": "code",
      "source": [
        "cm=np.corrcoef(df[cols].values.T)\n",
        "sns.set(font_scale=1.5)\n",
        "hm=sns.heatmap(cm,\n",
        "               cbar=True, annot=True, square=True, fmt='.2f', annot_kws={'size':15}, yticklabels=cols, xticklabels=cols)\n",
        "plt.tight_layout()\n",
        "plt.show()"
      ],
      "metadata": {
        "id": "4k5YugMXqfG9"
      },
      "execution_count": null,
      "outputs": []
    },
    {
      "cell_type": "markdown",
      "source": [
        "# boxplot 시각화 \n"
      ],
      "metadata": {
        "id": "rOOUNf9E00lk"
      }
    },
    {
      "cell_type": "code",
      "source": [
        "sns.boxplot('dn','lossr', data=df)"
      ],
      "metadata": {
        "id": "ldA9VxvUqbya"
      },
      "execution_count": null,
      "outputs": []
    },
    {
      "cell_type": "markdown",
      "source": [
        "# One Hot Encoding"
      ],
      "metadata": {
        "id": "T9sXlAGm2-FV"
      }
    },
    {
      "cell_type": "code",
      "source": [
        "from sklearn.preprocessing import OneHotEncoder"
      ],
      "metadata": {
        "id": "4haHWCoM3DCi"
      },
      "execution_count": null,
      "outputs": []
    },
    {
      "cell_type": "code",
      "source": [
        "y=pd.get_dummies(df.dn, prefix='dh')\n",
        "y.head()"
      ],
      "metadata": {
        "id": "-4dYDffS3tUE"
      },
      "execution_count": null,
      "outputs": []
    },
    {
      "cell_type": "code",
      "source": [
        "df=pd.concat([df,y],axis=1)\n",
        "df=df.drop(['dn'],axis=1)\n",
        "df.head()"
      ],
      "metadata": {
        "id": "5x42eeOjm5Pa"
      },
      "execution_count": null,
      "outputs": []
    },
    {
      "cell_type": "markdown",
      "source": [
        "# 회귀 트리 \n"
      ],
      "metadata": {
        "id": "c6iNe2kH52IY"
      }
    },
    {
      "cell_type": "code",
      "source": [
        "from sklearn.model_selection import cross_val_score\n",
        "from sklearn.ensemble import RandomForestRegressor"
      ],
      "metadata": {
        "id": "cKyaT6xAmF-z"
      },
      "execution_count": null,
      "outputs": []
    },
    {
      "cell_type": "code",
      "source": [
        "y_target=df['lossr']\n",
        "x_data=df.drop(['lossr'],axis=1, inplace=False)"
      ],
      "metadata": {
        "id": "PCOXMG9A4hsj"
      },
      "execution_count": null,
      "outputs": []
    },
    {
      "cell_type": "code",
      "source": [
        "rf=RandomForestRegressor(random_state=0,n_estimators=1000)\n",
        "neg_mse_scores=cross_val_score(rf,x_data,y_target,scoring=\"neg_mean_squared_error\",cv=5)\n",
        "rmse_scores=np.sqrt(-1*neg_mse_scores)\n",
        "avg_rmse=np.mean(rmse_scores)"
      ],
      "metadata": {
        "id": "2m0ckZiV6Ukv"
      },
      "execution_count": null,
      "outputs": []
    },
    {
      "cell_type": "code",
      "source": [
        "print('교차검즘의 평균 RMSE: {0:.3f}'.format(avg_rmse))"
      ],
      "metadata": {
        "id": "r8tSd5CX89Iw"
      },
      "execution_count": null,
      "outputs": []
    },
    {
      "cell_type": "code",
      "source": [
        "from sklearn.metrics import r2_score"
      ],
      "metadata": {
        "id": "onAjqkGqpVNI"
      },
      "execution_count": null,
      "outputs": []
    },
    {
      "cell_type": "code",
      "source": [
        "model=RandomForestRegressor().fit(x_data,y_target)"
      ],
      "metadata": {
        "id": "lA9TGn5iqcDB"
      },
      "execution_count": null,
      "outputs": []
    },
    {
      "cell_type": "code",
      "source": [
        "y_pred=model.predict(x_data)"
      ],
      "metadata": {
        "id": "rB_QikiNr064"
      },
      "execution_count": null,
      "outputs": []
    },
    {
      "cell_type": "code",
      "source": [
        "r_sq=r2_score(y_target,y_pred)"
      ],
      "metadata": {
        "id": "3i9lHOs_r7x2"
      },
      "execution_count": null,
      "outputs": []
    },
    {
      "cell_type": "code",
      "source": [
        "print(\"R2 value:\",r_sq)"
      ],
      "metadata": {
        "id": "IV447KEKsEMv"
      },
      "execution_count": null,
      "outputs": []
    },
    {
      "cell_type": "markdown",
      "source": [
        "# 학습결과를 트리로 보기 \n"
      ],
      "metadata": {
        "id": "Iq_FQj96xBeR"
      }
    },
    {
      "cell_type": "markdown",
      "source": [],
      "metadata": {
        "id": "fTVIXXMq0zJn"
      }
    },
    {
      "cell_type": "code",
      "source": [
        "from sklearn.ensemble import RandomForestRegressor\n",
        "from sklearn.tree import export_graphviz\n",
        "import graphviz\n",
        "\n",
        "rf = RandomForestRegressor(n_estimators=100)\n",
        "rf.fit(x_data, y_target)"
      ],
      "metadata": {
        "id": "vGUunPUF3zb_"
      },
      "execution_count": null,
      "outputs": []
    },
    {
      "cell_type": "code",
      "source": [
        "dot_data = export_graphviz(rf.estimators_[0], out_file=None, \n",
        "                           feature_names=x_data.columns, \n",
        "                           filled=True, rounded=True,  \n",
        "                           special_characters=True)\n",
        "graph = graphviz.Source(dot_data)\n",
        "graph"
      ],
      "metadata": {
        "id": "2FiBQSJE4KQW"
      },
      "execution_count": null,
      "outputs": []
    },
    {
      "cell_type": "markdown",
      "source": [
        "# 피처별 중요도 시각화 \n"
      ],
      "metadata": {
        "id": "230i4pKXWHcx"
      }
    },
    {
      "cell_type": "code",
      "source": [
        "feature_series=pd.Series(data=rf.feature_importances_,index=x_data.columns)\n",
        "feature_series=feature_series.sort_values(ascending=False)\n",
        "sns.barplot(x=feature_series,y=feature_series.index)"
      ],
      "metadata": {
        "id": "U8O4PxFlWNT4"
      },
      "execution_count": null,
      "outputs": []
    },
    {
      "cell_type": "markdown",
      "source": [],
      "metadata": {
        "id": "I4uWR57fZi7T"
      }
    },
    {
      "cell_type": "markdown",
      "source": [
        "# 회귀트리 Regressor가 어떻게 예측값을 판단하는지 시각화하기 "
      ],
      "metadata": {
        "id": "naQS08rEZpFZ"
      }
    },
    {
      "cell_type": "markdown",
      "source": [],
      "metadata": {
        "id": "6BaGngA8biP5"
      }
    },
    {
      "cell_type": "code",
      "source": [
        "df_sample =df[['armr','lossr']]\n",
        "df_sample=df_sample.sample(n=500,random_state=0)\n",
        "print(df_sample.shape)\n",
        "plt.figure()\n",
        "plt.scatter(df_sample.armr,df_sample.lossr,c='darkorange')"
      ],
      "metadata": {
        "id": "1WZi0-bDZ6xB"
      },
      "execution_count": null,
      "outputs": []
    },
    {
      "cell_type": "markdown",
      "source": [
        "# 선형회귀와 랜덤포레스트 회귀선 비교 "
      ],
      "metadata": {
        "id": "d8QRag9Nblyq"
      }
    },
    {
      "cell_type": "code",
      "source": [
        "import numpy as np\n",
        "from sklearn.linear_model import LinearRegression\n",
        "import matplotlib.pyplot as plt"
      ],
      "metadata": {
        "id": "buB7zFGBcAKf"
      },
      "execution_count": null,
      "outputs": []
    },
    {
      "cell_type": "code",
      "source": [
        "lr_reg1=LinearRegression()\n",
        "lr_reg2=RandomForestRegressor(max_depth=2)\n",
        "lr_reg3=RandomForestRegressor(max_depth=7)"
      ],
      "metadata": {
        "id": "4j_glS1NcpkR"
      },
      "execution_count": null,
      "outputs": []
    },
    {
      "cell_type": "code",
      "source": [
        "x_test=np.arange(0.1,0.9,0.01).reshape(-1,1)"
      ],
      "metadata": {
        "id": "YMVtcxHpifoc"
      },
      "execution_count": null,
      "outputs": []
    },
    {
      "cell_type": "code",
      "source": [
        "x_feature=df_sample['armr'].values.reshape(-1,1)\n",
        "y_target=df_sample['lossr'].values.reshape(-1,1)"
      ],
      "metadata": {
        "id": "09erU_dzb6ao"
      },
      "execution_count": null,
      "outputs": []
    },
    {
      "cell_type": "code",
      "source": [
        "lr_reg1.fit(x_feature,y_target)\n",
        "lr_reg2.fit(x_feature,y_target)\n",
        "lr_reg3.fit(x_feature,y_target)"
      ],
      "metadata": {
        "id": "_gsqYGaqYNCS"
      },
      "execution_count": null,
      "outputs": []
    },
    {
      "cell_type": "code",
      "source": [
        "pred_lr1=lr_reg1.predict(x_test)\n",
        "pred_lr2=lr_reg2.predict(x_test)\n",
        "pred_lr3=lr_reg3.predict(x_test)\n"
      ],
      "metadata": {
        "id": "g4G4sc8kXL4w"
      },
      "execution_count": null,
      "outputs": []
    },
    {
      "cell_type": "markdown",
      "source": [
        "# 모델별 회귀선 시각화 \n"
      ],
      "metadata": {
        "id": "cmfVdX-XlC0M"
      }
    },
    {
      "cell_type": "code",
      "source": [
        "fig,axs=plt.subplots(1,3, figsize=(15,5))\n",
        "\n",
        "axs[0].set_title('LR')\n",
        "axs[0].scatter(df.armr,df.lossr,s=5)\n",
        "axs[0].plot(x_test,pred_lr1,color=\"red\")\n",
        "\n",
        "axs[1].set_title('RandomForest(max_depth=2)')\n",
        "axs[1].scatter(df.armr,df.lossr,s=5)\n",
        "axs[1].plot(x_test,pred_lr2,label=\"max_depth:7\",color=\"orange\")\n",
        "\n",
        "axs[2].set_title('RandomForest(max_depth=7)')\n",
        "axs[2].scatter(df.armr,df.lossr,s=5)\n",
        "axs[2].plot(x_test,pred_lr3,label=\"max_depth:2\",color=\"green\")\n",
        "\n"
      ],
      "metadata": {
        "id": "67MViN8ZlKIh"
      },
      "execution_count": null,
      "outputs": []
    }
  ]
}